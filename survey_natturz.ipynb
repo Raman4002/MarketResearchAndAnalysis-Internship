{
 "cells": [
  {
   "cell_type": "code",
   "execution_count": 1,
   "id": "2576f1c3",
   "metadata": {},
   "outputs": [],
   "source": [
    "import pandas as pd\n",
    "import matplotlib\n",
    "import matplotlib.pyplot as plt"
   ]
  },
  {
   "cell_type": "code",
   "execution_count": 2,
   "id": "ee7c787c",
   "metadata": {},
   "outputs": [],
   "source": [
    "matplotlib.rcParams['figure.figsize']=(2,2)"
   ]
  },
  {
   "cell_type": "code",
   "execution_count": 3,
   "id": "91addd8e",
   "metadata": {},
   "outputs": [],
   "source": [
    "pd.set_option('display.max_columns', None)"
   ]
  },
  {
   "cell_type": "code",
   "execution_count": 4,
   "id": "131d4d3e",
   "metadata": {},
   "outputs": [],
   "source": [
    "survey=pd.read_csv(\"C:\\\\Users\\\\raman\\Desktop\\\\survey natturzz\\\\Survey (Responses).csv\")"
   ]
  },
  {
   "cell_type": "code",
   "execution_count": null,
   "id": "39231fb6",
   "metadata": {
    "scrolled": true
   },
   "outputs": [],
   "source": []
  },
  {
   "cell_type": "code",
   "execution_count": 5,
   "id": "b018d092",
   "metadata": {},
   "outputs": [
    {
     "data": {
      "text/html": [
       "<div>\n",
       "<style scoped>\n",
       "    .dataframe tbody tr th:only-of-type {\n",
       "        vertical-align: middle;\n",
       "    }\n",
       "\n",
       "    .dataframe tbody tr th {\n",
       "        vertical-align: top;\n",
       "    }\n",
       "\n",
       "    .dataframe thead th {\n",
       "        text-align: right;\n",
       "    }\n",
       "</style>\n",
       "<table border=\"1\" class=\"dataframe\">\n",
       "  <thead>\n",
       "    <tr style=\"text-align: right;\">\n",
       "      <th></th>\n",
       "      <th>Timestamp</th>\n",
       "      <th>age</th>\n",
       "      <th>lactose_intolerant</th>\n",
       "      <th>tried_soya_milk</th>\n",
       "      <th>try_after_soya_awarness</th>\n",
       "      <th>freq_of_soymilk_consumption</th>\n",
       "      <th>brand_soya_milk</th>\n",
       "      <th>exercise</th>\n",
       "      <th>what_is_tempeh</th>\n",
       "      <th>tried_tempeh</th>\n",
       "      <th>try_after_tempe_awarness</th>\n",
       "      <th>freq_of_tempeh_consumption</th>\n",
       "      <th>brand_tempeh</th>\n",
       "      <th>form1_tempeh</th>\n",
       "      <th>First Name</th>\n",
       "      <th>form2_tempeh</th>\n",
       "      <th>form3_tempeh</th>\n",
       "      <th>sugary_or_healthy</th>\n",
       "      <th>sugary_or_soya_or_other</th>\n",
       "      <th>looking_for_hdier_brand_soyabev</th>\n",
       "      <th>brand_soya_milk.1</th>\n",
       "      <th>singh.ramandeep4002@gmail.com</th>\n",
       "    </tr>\n",
       "  </thead>\n",
       "  <tbody>\n",
       "    <tr>\n",
       "      <th>0</th>\n",
       "      <td>7/28/2023 1:27:11</td>\n",
       "      <td>18</td>\n",
       "      <td>No</td>\n",
       "      <td>No</td>\n",
       "      <td>Maybe</td>\n",
       "      <td>Not Applicable</td>\n",
       "      <td>Not Applicable</td>\n",
       "      <td>Daily</td>\n",
       "      <td>No</td>\n",
       "      <td>No</td>\n",
       "      <td>Maybe</td>\n",
       "      <td>Not Applicable</td>\n",
       "      <td>Not Applicable</td>\n",
       "      <td>Original/Raw form of Tempeh</td>\n",
       "      <td>Ramandeep</td>\n",
       "      <td>None</td>\n",
       "      <td>None</td>\n",
       "      <td>Look for healthier options</td>\n",
       "      <td>Other healthier non soya based drinks</td>\n",
       "      <td>Not looking for one</td>\n",
       "      <td>Not Applicable</td>\n",
       "      <td>singh.ramandeep4002@gmail.com</td>\n",
       "    </tr>\n",
       "    <tr>\n",
       "      <th>1</th>\n",
       "      <td>7/28/2023 1:40:55</td>\n",
       "      <td>19</td>\n",
       "      <td>No</td>\n",
       "      <td>Yes</td>\n",
       "      <td>Not Applicable</td>\n",
       "      <td>Only tried once</td>\n",
       "      <td>Silk (by Danone)</td>\n",
       "      <td>Daily</td>\n",
       "      <td>Yes</td>\n",
       "      <td>Yes</td>\n",
       "      <td>Not Applicable</td>\n",
       "      <td>Once/more than once in a month</td>\n",
       "      <td>Hello Tempayy</td>\n",
       "      <td>Original/Raw form of Tempeh</td>\n",
       "      <td>Astitva</td>\n",
       "      <td>Original/Raw form of Tempeh</td>\n",
       "      <td>Original/Raw form of Tempeh</td>\n",
       "      <td>Look for healthier options</td>\n",
       "      <td>Other healthier non soya based drinks</td>\n",
       "      <td>No</td>\n",
       "      <td>Silk (by Danone)</td>\n",
       "      <td>astitvarajput31@gmail.com</td>\n",
       "    </tr>\n",
       "    <tr>\n",
       "      <th>2</th>\n",
       "      <td>7/29/2023 8:46:33</td>\n",
       "      <td>25</td>\n",
       "      <td>No</td>\n",
       "      <td>Yes</td>\n",
       "      <td>Maybe</td>\n",
       "      <td>Only tried once</td>\n",
       "      <td>Nutrela</td>\n",
       "      <td>Once in a month</td>\n",
       "      <td>No</td>\n",
       "      <td>No</td>\n",
       "      <td>Not Applicable</td>\n",
       "      <td>Not Applicable</td>\n",
       "      <td>Not Applicable</td>\n",
       "      <td>Tempeh Cookies</td>\n",
       "      <td>Rahul Chawla</td>\n",
       "      <td>Tempeh Chips</td>\n",
       "      <td>Original/Raw form of Tempeh</td>\n",
       "      <td>Look for healthier options</td>\n",
       "      <td>Healthier Drink/ made with specifically soya e...</td>\n",
       "      <td>No</td>\n",
       "      <td>GoVegan</td>\n",
       "      <td>rahulchawla296@gmail.com</td>\n",
       "    </tr>\n",
       "    <tr>\n",
       "      <th>3</th>\n",
       "      <td>7/28/2023 1:35:13</td>\n",
       "      <td>19</td>\n",
       "      <td>No</td>\n",
       "      <td>No</td>\n",
       "      <td>Yes</td>\n",
       "      <td>Not Applicable</td>\n",
       "      <td>Not Applicable</td>\n",
       "      <td>Daily</td>\n",
       "      <td>Yes</td>\n",
       "      <td>No</td>\n",
       "      <td>Yes</td>\n",
       "      <td>Not Applicable</td>\n",
       "      <td>Not Applicable</td>\n",
       "      <td>Tempeh Cookies</td>\n",
       "      <td>Aastha</td>\n",
       "      <td>Tempeh Chips</td>\n",
       "      <td>None</td>\n",
       "      <td>Fine with both</td>\n",
       "      <td>Healthier Drink/ made with specifically soya e...</td>\n",
       "      <td>Yes</td>\n",
       "      <td>Not Applicable</td>\n",
       "      <td>aastha2004mendiratta@gmail.com</td>\n",
       "    </tr>\n",
       "    <tr>\n",
       "      <th>4</th>\n",
       "      <td>7/28/2023 1:38:54</td>\n",
       "      <td>18</td>\n",
       "      <td>No</td>\n",
       "      <td>No</td>\n",
       "      <td>Yes</td>\n",
       "      <td>Not Applicable</td>\n",
       "      <td>Not Applicable</td>\n",
       "      <td>2 times a week</td>\n",
       "      <td>Yes</td>\n",
       "      <td>No</td>\n",
       "      <td>Yes</td>\n",
       "      <td>Not Applicable</td>\n",
       "      <td>Not Applicable</td>\n",
       "      <td>Original/Raw form of Tempeh</td>\n",
       "      <td>Gatik</td>\n",
       "      <td>Tempeh Chips</td>\n",
       "      <td>None</td>\n",
       "      <td>Look for healthier options</td>\n",
       "      <td>Healthier Drink/ made with specifically soya e...</td>\n",
       "      <td>Yes</td>\n",
       "      <td>Not Applicable</td>\n",
       "      <td>gatikgupta70@gmail.com</td>\n",
       "    </tr>\n",
       "    <tr>\n",
       "      <th>...</th>\n",
       "      <td>...</td>\n",
       "      <td>...</td>\n",
       "      <td>...</td>\n",
       "      <td>...</td>\n",
       "      <td>...</td>\n",
       "      <td>...</td>\n",
       "      <td>...</td>\n",
       "      <td>...</td>\n",
       "      <td>...</td>\n",
       "      <td>...</td>\n",
       "      <td>...</td>\n",
       "      <td>...</td>\n",
       "      <td>...</td>\n",
       "      <td>...</td>\n",
       "      <td>...</td>\n",
       "      <td>...</td>\n",
       "      <td>...</td>\n",
       "      <td>...</td>\n",
       "      <td>...</td>\n",
       "      <td>...</td>\n",
       "      <td>...</td>\n",
       "      <td>...</td>\n",
       "    </tr>\n",
       "    <tr>\n",
       "      <th>163</th>\n",
       "      <td>7/29/2023 21:55:12</td>\n",
       "      <td>21</td>\n",
       "      <td>No</td>\n",
       "      <td>No</td>\n",
       "      <td>Maybe</td>\n",
       "      <td>Only tried once</td>\n",
       "      <td>NaN</td>\n",
       "      <td>Limited/Rare</td>\n",
       "      <td>Yes</td>\n",
       "      <td>No</td>\n",
       "      <td>Yes</td>\n",
       "      <td>NaN</td>\n",
       "      <td>NaN</td>\n",
       "      <td>Tempeh Chips</td>\n",
       "      <td>Kripa</td>\n",
       "      <td>Tempeh Cookies</td>\n",
       "      <td>Original/Raw form of Tempeh</td>\n",
       "      <td>Fine with both</td>\n",
       "      <td>Healthier Drink/ made with specifically soya e...</td>\n",
       "      <td>No</td>\n",
       "      <td>NaN</td>\n",
       "      <td>thakurrk114y1@gmail.com</td>\n",
       "    </tr>\n",
       "    <tr>\n",
       "      <th>164</th>\n",
       "      <td>7/29/2023 22:11:42</td>\n",
       "      <td>20</td>\n",
       "      <td>No</td>\n",
       "      <td>No</td>\n",
       "      <td>NaN</td>\n",
       "      <td>Not Applicable</td>\n",
       "      <td>NaN</td>\n",
       "      <td>Once in a month</td>\n",
       "      <td>No</td>\n",
       "      <td>No</td>\n",
       "      <td>Yes</td>\n",
       "      <td>NaN</td>\n",
       "      <td>NaN</td>\n",
       "      <td>None</td>\n",
       "      <td>Vijay</td>\n",
       "      <td>Tempeh Cookies</td>\n",
       "      <td>None</td>\n",
       "      <td>Fine with both</td>\n",
       "      <td>None</td>\n",
       "      <td>Not looking for one</td>\n",
       "      <td>NaN</td>\n",
       "      <td>sweetyalley4@gmail.com</td>\n",
       "    </tr>\n",
       "    <tr>\n",
       "      <th>165</th>\n",
       "      <td>7/29/2023 22:56:56</td>\n",
       "      <td>20</td>\n",
       "      <td>No</td>\n",
       "      <td>No</td>\n",
       "      <td>NaN</td>\n",
       "      <td>Only tried once</td>\n",
       "      <td>NaN</td>\n",
       "      <td>3-4 times a week</td>\n",
       "      <td>No</td>\n",
       "      <td>No</td>\n",
       "      <td>Maybe</td>\n",
       "      <td>NaN</td>\n",
       "      <td>NaN</td>\n",
       "      <td>NaN</td>\n",
       "      <td>Abhishek</td>\n",
       "      <td>None</td>\n",
       "      <td>NaN</td>\n",
       "      <td>Look for healthier options</td>\n",
       "      <td>Other healthier non soya based drinks</td>\n",
       "      <td>Yes</td>\n",
       "      <td>NaN</td>\n",
       "      <td>qareenaraihan@gmail.com</td>\n",
       "    </tr>\n",
       "    <tr>\n",
       "      <th>166</th>\n",
       "      <td>7/29/2023 23:26:18</td>\n",
       "      <td>22</td>\n",
       "      <td>No</td>\n",
       "      <td>Yes</td>\n",
       "      <td>NaN</td>\n",
       "      <td>Not Applicable</td>\n",
       "      <td>NaN</td>\n",
       "      <td>Limited/Rare</td>\n",
       "      <td>NaN</td>\n",
       "      <td>No</td>\n",
       "      <td>Maybe</td>\n",
       "      <td>NaN</td>\n",
       "      <td>NaN</td>\n",
       "      <td>NaN</td>\n",
       "      <td>Falguni</td>\n",
       "      <td>NaN</td>\n",
       "      <td>NaN</td>\n",
       "      <td>Fine with both</td>\n",
       "      <td>Flavoured Milk</td>\n",
       "      <td>Yes</td>\n",
       "      <td>NaN</td>\n",
       "      <td>kashishmalhotra279@gmail.com</td>\n",
       "    </tr>\n",
       "    <tr>\n",
       "      <th>167</th>\n",
       "      <td>7/30/2023 0:14:42</td>\n",
       "      <td>17</td>\n",
       "      <td>No</td>\n",
       "      <td>Yes</td>\n",
       "      <td>NaN</td>\n",
       "      <td>Not Applicable</td>\n",
       "      <td>NaN</td>\n",
       "      <td>Daily</td>\n",
       "      <td>NaN</td>\n",
       "      <td>No</td>\n",
       "      <td>Maybe</td>\n",
       "      <td>NaN</td>\n",
       "      <td>NaN</td>\n",
       "      <td>NaN</td>\n",
       "      <td>Arpita</td>\n",
       "      <td>NaN</td>\n",
       "      <td>NaN</td>\n",
       "      <td>Fine with both</td>\n",
       "      <td>Healthier Drink/ made with specifically soya e...</td>\n",
       "      <td>Not looking for one</td>\n",
       "      <td>NaN</td>\n",
       "      <td>kripawadhwa02@gmail.com</td>\n",
       "    </tr>\n",
       "  </tbody>\n",
       "</table>\n",
       "<p>168 rows × 22 columns</p>\n",
       "</div>"
      ],
      "text/plain": [
       "              Timestamp  age lactose_intolerant tried_soya_milk  \\\n",
       "0     7/28/2023 1:27:11   18                 No              No   \n",
       "1     7/28/2023 1:40:55   19                 No             Yes   \n",
       "2     7/29/2023 8:46:33   25                 No             Yes   \n",
       "3     7/28/2023 1:35:13   19                 No              No   \n",
       "4     7/28/2023 1:38:54   18                 No              No   \n",
       "..                  ...  ...                ...             ...   \n",
       "163  7/29/2023 21:55:12   21                 No              No   \n",
       "164  7/29/2023 22:11:42   20                 No              No   \n",
       "165  7/29/2023 22:56:56   20                 No              No   \n",
       "166  7/29/2023 23:26:18   22                 No             Yes   \n",
       "167   7/30/2023 0:14:42   17                 No             Yes   \n",
       "\n",
       "    try_after_soya_awarness freq_of_soymilk_consumption   brand_soya_milk  \\\n",
       "0                     Maybe              Not Applicable    Not Applicable   \n",
       "1            Not Applicable             Only tried once  Silk (by Danone)   \n",
       "2                     Maybe             Only tried once           Nutrela   \n",
       "3                       Yes              Not Applicable    Not Applicable   \n",
       "4                       Yes              Not Applicable    Not Applicable   \n",
       "..                      ...                         ...               ...   \n",
       "163                   Maybe             Only tried once               NaN   \n",
       "164                     NaN              Not Applicable               NaN   \n",
       "165                     NaN             Only tried once               NaN   \n",
       "166                     NaN              Not Applicable               NaN   \n",
       "167                     NaN              Not Applicable               NaN   \n",
       "\n",
       "             exercise what_is_tempeh tried_tempeh try_after_tempe_awarness  \\\n",
       "0               Daily             No           No                    Maybe   \n",
       "1               Daily            Yes          Yes           Not Applicable   \n",
       "2     Once in a month             No           No           Not Applicable   \n",
       "3               Daily            Yes           No                      Yes   \n",
       "4      2 times a week            Yes           No                      Yes   \n",
       "..                ...            ...          ...                      ...   \n",
       "163      Limited/Rare            Yes           No                      Yes   \n",
       "164   Once in a month             No           No                      Yes   \n",
       "165  3-4 times a week             No           No                    Maybe   \n",
       "166      Limited/Rare            NaN           No                    Maybe   \n",
       "167             Daily            NaN           No                    Maybe   \n",
       "\n",
       "         freq_of_tempeh_consumption    brand_tempeh  \\\n",
       "0                    Not Applicable  Not Applicable   \n",
       "1    Once/more than once in a month   Hello Tempayy   \n",
       "2                    Not Applicable  Not Applicable   \n",
       "3                    Not Applicable  Not Applicable   \n",
       "4                    Not Applicable  Not Applicable   \n",
       "..                              ...             ...   \n",
       "163                             NaN             NaN   \n",
       "164                             NaN             NaN   \n",
       "165                             NaN             NaN   \n",
       "166                             NaN             NaN   \n",
       "167                             NaN             NaN   \n",
       "\n",
       "                    form1_tempeh    First Name                 form2_tempeh  \\\n",
       "0    Original/Raw form of Tempeh     Ramandeep                         None   \n",
       "1    Original/Raw form of Tempeh       Astitva  Original/Raw form of Tempeh   \n",
       "2                 Tempeh Cookies  Rahul Chawla                 Tempeh Chips   \n",
       "3                 Tempeh Cookies        Aastha                 Tempeh Chips   \n",
       "4    Original/Raw form of Tempeh         Gatik                 Tempeh Chips   \n",
       "..                           ...           ...                          ...   \n",
       "163                 Tempeh Chips         Kripa               Tempeh Cookies   \n",
       "164                         None         Vijay               Tempeh Cookies   \n",
       "165                          NaN      Abhishek                         None   \n",
       "166                          NaN       Falguni                          NaN   \n",
       "167                          NaN        Arpita                          NaN   \n",
       "\n",
       "                    form3_tempeh           sugary_or_healthy  \\\n",
       "0                           None  Look for healthier options   \n",
       "1    Original/Raw form of Tempeh  Look for healthier options   \n",
       "2    Original/Raw form of Tempeh  Look for healthier options   \n",
       "3                           None              Fine with both   \n",
       "4                           None  Look for healthier options   \n",
       "..                           ...                         ...   \n",
       "163  Original/Raw form of Tempeh              Fine with both   \n",
       "164                         None              Fine with both   \n",
       "165                          NaN  Look for healthier options   \n",
       "166                          NaN              Fine with both   \n",
       "167                          NaN              Fine with both   \n",
       "\n",
       "                               sugary_or_soya_or_other  \\\n",
       "0                Other healthier non soya based drinks   \n",
       "1                Other healthier non soya based drinks   \n",
       "2    Healthier Drink/ made with specifically soya e...   \n",
       "3    Healthier Drink/ made with specifically soya e...   \n",
       "4    Healthier Drink/ made with specifically soya e...   \n",
       "..                                                 ...   \n",
       "163  Healthier Drink/ made with specifically soya e...   \n",
       "164                                               None   \n",
       "165              Other healthier non soya based drinks   \n",
       "166                                     Flavoured Milk   \n",
       "167  Healthier Drink/ made with specifically soya e...   \n",
       "\n",
       "    looking_for_hdier_brand_soyabev brand_soya_milk.1  \\\n",
       "0               Not looking for one    Not Applicable   \n",
       "1                                No  Silk (by Danone)   \n",
       "2                                No           GoVegan   \n",
       "3                               Yes    Not Applicable   \n",
       "4                               Yes    Not Applicable   \n",
       "..                              ...               ...   \n",
       "163                              No               NaN   \n",
       "164             Not looking for one               NaN   \n",
       "165                             Yes               NaN   \n",
       "166                             Yes               NaN   \n",
       "167             Not looking for one               NaN   \n",
       "\n",
       "      singh.ramandeep4002@gmail.com  \n",
       "0     singh.ramandeep4002@gmail.com  \n",
       "1         astitvarajput31@gmail.com  \n",
       "2          rahulchawla296@gmail.com  \n",
       "3    aastha2004mendiratta@gmail.com  \n",
       "4            gatikgupta70@gmail.com  \n",
       "..                              ...  \n",
       "163         thakurrk114y1@gmail.com  \n",
       "164          sweetyalley4@gmail.com  \n",
       "165         qareenaraihan@gmail.com  \n",
       "166    kashishmalhotra279@gmail.com  \n",
       "167         kripawadhwa02@gmail.com  \n",
       "\n",
       "[168 rows x 22 columns]"
      ]
     },
     "execution_count": 5,
     "metadata": {},
     "output_type": "execute_result"
    }
   ],
   "source": [
    "survey"
   ]
  },
  {
   "cell_type": "markdown",
   "id": "a82b12d4",
   "metadata": {},
   "source": [
    "# SOYA"
   ]
  },
  {
   "cell_type": "markdown",
   "id": "b25b8b61",
   "metadata": {},
   "source": [
    "###### current percentage of people consuming soy milk"
   ]
  },
  {
   "cell_type": "code",
   "execution_count": 6,
   "id": "905354cf",
   "metadata": {},
   "outputs": [],
   "source": [
    "soya_c={'First Name','age','lactose_intolerant','tried_soya_milk','try_after_soya_awarness','freq_of_soymilk_consumption','brand_soya_milk','sugary_or_healthy','sugary_or_soya_or_other','looking_for_hdier_brand_soyabev','brand_soya_milk'}"
   ]
  },
  {
   "cell_type": "code",
   "execution_count": 7,
   "id": "27d8baa1",
   "metadata": {},
   "outputs": [
    {
     "name": "stderr",
     "output_type": "stream",
     "text": [
      "C:\\Users\\raman\\AppData\\Local\\Temp\\ipykernel_19816\\1596520011.py:1: FutureWarning: Passing a set as an indexer is deprecated and will raise in a future version. Use a list instead.\n",
      "  soya=survey[soya_c]\n"
     ]
    }
   ],
   "source": [
    "soya=survey[soya_c]"
   ]
  },
  {
   "cell_type": "code",
   "execution_count": null,
   "id": "7273e98f",
   "metadata": {},
   "outputs": [],
   "source": []
  },
  {
   "cell_type": "code",
   "execution_count": 8,
   "id": "3b7039b6",
   "metadata": {},
   "outputs": [
    {
     "data": {
      "text/plain": [
       "array(['Not Applicable', 'Only tried once', 'Once in a month',\n",
       "       'Once in a week', 'Daily'], dtype=object)"
      ]
     },
     "execution_count": 8,
     "metadata": {},
     "output_type": "execute_result"
    }
   ],
   "source": [
    "soya.freq_of_soymilk_consumption.unique()"
   ]
  },
  {
   "cell_type": "code",
   "execution_count": 9,
   "id": "0f464d7e",
   "metadata": {},
   "outputs": [],
   "source": [
    "soy_milk_daily_weekly=soya[(soya.freq_of_soymilk_consumption=='Daily') | (soya.freq_of_soymilk_consumption=='Once in a week') ]"
   ]
  },
  {
   "cell_type": "code",
   "execution_count": 10,
   "id": "dcf7b900",
   "metadata": {},
   "outputs": [
    {
     "data": {
      "text/html": [
       "<div>\n",
       "<style scoped>\n",
       "    .dataframe tbody tr th:only-of-type {\n",
       "        vertical-align: middle;\n",
       "    }\n",
       "\n",
       "    .dataframe tbody tr th {\n",
       "        vertical-align: top;\n",
       "    }\n",
       "\n",
       "    .dataframe thead th {\n",
       "        text-align: right;\n",
       "    }\n",
       "</style>\n",
       "<table border=\"1\" class=\"dataframe\">\n",
       "  <thead>\n",
       "    <tr style=\"text-align: right;\">\n",
       "      <th></th>\n",
       "      <th>lactose_intolerant</th>\n",
       "      <th>try_after_soya_awarness</th>\n",
       "      <th>tried_soya_milk</th>\n",
       "      <th>sugary_or_healthy</th>\n",
       "      <th>First Name</th>\n",
       "      <th>brand_soya_milk</th>\n",
       "      <th>looking_for_hdier_brand_soyabev</th>\n",
       "      <th>freq_of_soymilk_consumption</th>\n",
       "      <th>sugary_or_soya_or_other</th>\n",
       "      <th>age</th>\n",
       "    </tr>\n",
       "  </thead>\n",
       "  <tbody>\n",
       "    <tr>\n",
       "      <th>40</th>\n",
       "      <td>Yes</td>\n",
       "      <td>Yes</td>\n",
       "      <td>No</td>\n",
       "      <td>Look for healthier options</td>\n",
       "      <td>Tanu</td>\n",
       "      <td>Sofit</td>\n",
       "      <td>No</td>\n",
       "      <td>Once in a week</td>\n",
       "      <td>Flavoured Milk</td>\n",
       "      <td>19</td>\n",
       "    </tr>\n",
       "    <tr>\n",
       "      <th>41</th>\n",
       "      <td>No</td>\n",
       "      <td>Yes</td>\n",
       "      <td>Yes</td>\n",
       "      <td>Fine with both</td>\n",
       "      <td>Kshitiz ranchen</td>\n",
       "      <td>Not Applicable</td>\n",
       "      <td>Yes</td>\n",
       "      <td>Once in a week</td>\n",
       "      <td>Flavoured Milk</td>\n",
       "      <td>29</td>\n",
       "    </tr>\n",
       "    <tr>\n",
       "      <th>55</th>\n",
       "      <td>No</td>\n",
       "      <td>Maybe</td>\n",
       "      <td>No</td>\n",
       "      <td>Fine with both</td>\n",
       "      <td>Pranay wahi</td>\n",
       "      <td>Not Applicable</td>\n",
       "      <td>Not looking for one</td>\n",
       "      <td>Once in a week</td>\n",
       "      <td>Flavoured Milk</td>\n",
       "      <td>18</td>\n",
       "    </tr>\n",
       "    <tr>\n",
       "      <th>56</th>\n",
       "      <td>No</td>\n",
       "      <td>Maybe</td>\n",
       "      <td>Yes</td>\n",
       "      <td>Look for healthier options</td>\n",
       "      <td>Komal Mendiratta</td>\n",
       "      <td>Hershey's Soy Milk</td>\n",
       "      <td>No</td>\n",
       "      <td>Daily</td>\n",
       "      <td>Healthier Drink/ made with specifically soya e...</td>\n",
       "      <td>50</td>\n",
       "    </tr>\n",
       "    <tr>\n",
       "      <th>62</th>\n",
       "      <td>No</td>\n",
       "      <td>No</td>\n",
       "      <td>No</td>\n",
       "      <td>Look for healthier options</td>\n",
       "      <td>Soumya</td>\n",
       "      <td>Not Applicable</td>\n",
       "      <td>Not looking for one</td>\n",
       "      <td>Once in a week</td>\n",
       "      <td>Flavoured Milk</td>\n",
       "      <td>18</td>\n",
       "    </tr>\n",
       "    <tr>\n",
       "      <th>66</th>\n",
       "      <td>No</td>\n",
       "      <td>Maybe</td>\n",
       "      <td>No</td>\n",
       "      <td>Fine with both</td>\n",
       "      <td>Harshil</td>\n",
       "      <td>Not Applicable</td>\n",
       "      <td>Not looking for one</td>\n",
       "      <td>Daily</td>\n",
       "      <td>Flavoured Milk</td>\n",
       "      <td>18</td>\n",
       "    </tr>\n",
       "    <tr>\n",
       "      <th>81</th>\n",
       "      <td>No</td>\n",
       "      <td>Yes</td>\n",
       "      <td>Yes</td>\n",
       "      <td>Fine with both</td>\n",
       "      <td>Pujanya</td>\n",
       "      <td>Not Applicable</td>\n",
       "      <td>Not looking for one</td>\n",
       "      <td>Once in a week</td>\n",
       "      <td>None</td>\n",
       "      <td>19</td>\n",
       "    </tr>\n",
       "    <tr>\n",
       "      <th>82</th>\n",
       "      <td>No</td>\n",
       "      <td>Maybe</td>\n",
       "      <td>No</td>\n",
       "      <td>Look for healthier options</td>\n",
       "      <td>Jalaj Sharma</td>\n",
       "      <td>Hershey's Soy Milk</td>\n",
       "      <td>Not looking for one</td>\n",
       "      <td>Once in a week</td>\n",
       "      <td>Healthier Drink/ made with specifically soya e...</td>\n",
       "      <td>19</td>\n",
       "    </tr>\n",
       "    <tr>\n",
       "      <th>97</th>\n",
       "      <td>No</td>\n",
       "      <td>Not Applicable</td>\n",
       "      <td>Yes</td>\n",
       "      <td>Prefer sugary drinks</td>\n",
       "      <td>Priyam</td>\n",
       "      <td>Not Applicable</td>\n",
       "      <td>Not looking for one</td>\n",
       "      <td>Once in a week</td>\n",
       "      <td>None</td>\n",
       "      <td>23</td>\n",
       "    </tr>\n",
       "    <tr>\n",
       "      <th>109</th>\n",
       "      <td>No</td>\n",
       "      <td>Not Applicable</td>\n",
       "      <td>Yes</td>\n",
       "      <td>Look for healthier options</td>\n",
       "      <td>K</td>\n",
       "      <td>Not Applicable</td>\n",
       "      <td>Yes</td>\n",
       "      <td>Daily</td>\n",
       "      <td>None</td>\n",
       "      <td>30</td>\n",
       "    </tr>\n",
       "    <tr>\n",
       "      <th>110</th>\n",
       "      <td>No</td>\n",
       "      <td>No</td>\n",
       "      <td>No</td>\n",
       "      <td>Look for healthier options</td>\n",
       "      <td>Lamya</td>\n",
       "      <td>Hershey's Soy Milk</td>\n",
       "      <td>Not looking for one</td>\n",
       "      <td>Once in a week</td>\n",
       "      <td>Flavoured Milk</td>\n",
       "      <td>20</td>\n",
       "    </tr>\n",
       "    <tr>\n",
       "      <th>112</th>\n",
       "      <td>No</td>\n",
       "      <td>Yes</td>\n",
       "      <td>Yes</td>\n",
       "      <td>Look for healthier options</td>\n",
       "      <td>Jai</td>\n",
       "      <td>Not Applicable</td>\n",
       "      <td>Yes</td>\n",
       "      <td>Once in a week</td>\n",
       "      <td>Healthier Drink/ made with specifically soya e...</td>\n",
       "      <td>19</td>\n",
       "    </tr>\n",
       "    <tr>\n",
       "      <th>127</th>\n",
       "      <td>No</td>\n",
       "      <td>Maybe</td>\n",
       "      <td>Yes</td>\n",
       "      <td>Look for healthier options</td>\n",
       "      <td>Suman</td>\n",
       "      <td>Not Applicable</td>\n",
       "      <td>Yes</td>\n",
       "      <td>Once in a week</td>\n",
       "      <td>Other healthier non soya based drinks</td>\n",
       "      <td>18</td>\n",
       "    </tr>\n",
       "    <tr>\n",
       "      <th>134</th>\n",
       "      <td>No</td>\n",
       "      <td>Not Applicable</td>\n",
       "      <td>No</td>\n",
       "      <td>Fine with both</td>\n",
       "      <td>Parneet</td>\n",
       "      <td>Not Applicable</td>\n",
       "      <td>No</td>\n",
       "      <td>Once in a week</td>\n",
       "      <td>Flavoured Milk</td>\n",
       "      <td>19</td>\n",
       "    </tr>\n",
       "    <tr>\n",
       "      <th>137</th>\n",
       "      <td>No</td>\n",
       "      <td>Maybe</td>\n",
       "      <td>No</td>\n",
       "      <td>Fine with both</td>\n",
       "      <td>Harpreet kaur Ahuja</td>\n",
       "      <td>Not Applicable</td>\n",
       "      <td>Not looking for one</td>\n",
       "      <td>Daily</td>\n",
       "      <td>Healthier Drink/ made with specifically soya e...</td>\n",
       "      <td>19</td>\n",
       "    </tr>\n",
       "    <tr>\n",
       "      <th>147</th>\n",
       "      <td>No</td>\n",
       "      <td>Yes</td>\n",
       "      <td>No</td>\n",
       "      <td>Fine with both</td>\n",
       "      <td>Rohit</td>\n",
       "      <td>Hershey's Soy Milk</td>\n",
       "      <td>Yes</td>\n",
       "      <td>Once in a week</td>\n",
       "      <td>Healthier Drink/ made with specifically soya e...</td>\n",
       "      <td>18</td>\n",
       "    </tr>\n",
       "    <tr>\n",
       "      <th>153</th>\n",
       "      <td>No</td>\n",
       "      <td>Maybe</td>\n",
       "      <td>No</td>\n",
       "      <td>Fine with both</td>\n",
       "      <td>Yogita</td>\n",
       "      <td>Nutrela</td>\n",
       "      <td>Yes</td>\n",
       "      <td>Once in a week</td>\n",
       "      <td>Flavoured Milk</td>\n",
       "      <td>55</td>\n",
       "    </tr>\n",
       "  </tbody>\n",
       "</table>\n",
       "</div>"
      ],
      "text/plain": [
       "    lactose_intolerant try_after_soya_awarness tried_soya_milk  \\\n",
       "40                 Yes                     Yes              No   \n",
       "41                  No                     Yes             Yes   \n",
       "55                  No                   Maybe              No   \n",
       "56                  No                   Maybe             Yes   \n",
       "62                  No                      No              No   \n",
       "66                  No                   Maybe              No   \n",
       "81                  No                     Yes             Yes   \n",
       "82                  No                   Maybe              No   \n",
       "97                  No          Not Applicable             Yes   \n",
       "109                 No          Not Applicable             Yes   \n",
       "110                 No                      No              No   \n",
       "112                 No                     Yes             Yes   \n",
       "127                 No                   Maybe             Yes   \n",
       "134                 No          Not Applicable              No   \n",
       "137                 No                   Maybe              No   \n",
       "147                 No                     Yes              No   \n",
       "153                 No                   Maybe              No   \n",
       "\n",
       "              sugary_or_healthy           First Name     brand_soya_milk  \\\n",
       "40   Look for healthier options                 Tanu               Sofit   \n",
       "41               Fine with both      Kshitiz ranchen      Not Applicable   \n",
       "55               Fine with both          Pranay wahi      Not Applicable   \n",
       "56   Look for healthier options     Komal Mendiratta  Hershey's Soy Milk   \n",
       "62   Look for healthier options               Soumya      Not Applicable   \n",
       "66               Fine with both              Harshil      Not Applicable   \n",
       "81               Fine with both              Pujanya      Not Applicable   \n",
       "82   Look for healthier options         Jalaj Sharma  Hershey's Soy Milk   \n",
       "97         Prefer sugary drinks               Priyam      Not Applicable   \n",
       "109  Look for healthier options                    K      Not Applicable   \n",
       "110  Look for healthier options                Lamya  Hershey's Soy Milk   \n",
       "112  Look for healthier options                  Jai      Not Applicable   \n",
       "127  Look for healthier options                Suman      Not Applicable   \n",
       "134              Fine with both              Parneet      Not Applicable   \n",
       "137              Fine with both  Harpreet kaur Ahuja      Not Applicable   \n",
       "147              Fine with both                Rohit  Hershey's Soy Milk   \n",
       "153              Fine with both               Yogita             Nutrela   \n",
       "\n",
       "    looking_for_hdier_brand_soyabev freq_of_soymilk_consumption  \\\n",
       "40                               No              Once in a week   \n",
       "41                              Yes              Once in a week   \n",
       "55              Not looking for one              Once in a week   \n",
       "56                               No                       Daily   \n",
       "62              Not looking for one              Once in a week   \n",
       "66              Not looking for one                       Daily   \n",
       "81              Not looking for one              Once in a week   \n",
       "82              Not looking for one              Once in a week   \n",
       "97              Not looking for one              Once in a week   \n",
       "109                             Yes                       Daily   \n",
       "110             Not looking for one              Once in a week   \n",
       "112                             Yes              Once in a week   \n",
       "127                             Yes              Once in a week   \n",
       "134                              No              Once in a week   \n",
       "137             Not looking for one                       Daily   \n",
       "147                             Yes              Once in a week   \n",
       "153                             Yes              Once in a week   \n",
       "\n",
       "                               sugary_or_soya_or_other  age  \n",
       "40                                      Flavoured Milk   19  \n",
       "41                                      Flavoured Milk   29  \n",
       "55                                      Flavoured Milk   18  \n",
       "56   Healthier Drink/ made with specifically soya e...   50  \n",
       "62                                      Flavoured Milk   18  \n",
       "66                                      Flavoured Milk   18  \n",
       "81                                                None   19  \n",
       "82   Healthier Drink/ made with specifically soya e...   19  \n",
       "97                                                None   23  \n",
       "109                                               None   30  \n",
       "110                                     Flavoured Milk   20  \n",
       "112  Healthier Drink/ made with specifically soya e...   19  \n",
       "127              Other healthier non soya based drinks   18  \n",
       "134                                     Flavoured Milk   19  \n",
       "137  Healthier Drink/ made with specifically soya e...   19  \n",
       "147  Healthier Drink/ made with specifically soya e...   18  \n",
       "153                                     Flavoured Milk   55  "
      ]
     },
     "execution_count": 10,
     "metadata": {},
     "output_type": "execute_result"
    }
   ],
   "source": [
    "soy_milk_daily_weekly"
   ]
  },
  {
   "cell_type": "code",
   "execution_count": 11,
   "id": "cccb07d1",
   "metadata": {},
   "outputs": [
    {
     "data": {
      "text/plain": [
       "Int64Index([40, 41, 55, 56, 62, 66, 81, 82, 97, 109, 110, 112, 127, 134, 137,\n",
       "            147, 153],\n",
       "           dtype='int64')"
      ]
     },
     "execution_count": 11,
     "metadata": {},
     "output_type": "execute_result"
    }
   ],
   "source": [
    "(soy_milk_daily_weekly.index)"
   ]
  },
  {
   "cell_type": "code",
   "execution_count": 12,
   "id": "b561d97d",
   "metadata": {},
   "outputs": [],
   "source": [
    "no_of_soy_milk_daily_weekly=len(soy_milk_daily_weekly)"
   ]
  },
  {
   "cell_type": "code",
   "execution_count": 13,
   "id": "9ff9ccac",
   "metadata": {},
   "outputs": [
    {
     "data": {
      "text/plain": [
       "17"
      ]
     },
     "execution_count": 13,
     "metadata": {},
     "output_type": "execute_result"
    }
   ],
   "source": [
    "no_of_soy_milk_daily_weekly"
   ]
  },
  {
   "cell_type": "code",
   "execution_count": 14,
   "id": "f6a6386e",
   "metadata": {},
   "outputs": [
    {
     "data": {
      "text/plain": [
       "168"
      ]
     },
     "execution_count": 14,
     "metadata": {},
     "output_type": "execute_result"
    }
   ],
   "source": [
    "len(soya)"
   ]
  },
  {
   "cell_type": "code",
   "execution_count": null,
   "id": "fef1b3f6",
   "metadata": {},
   "outputs": [],
   "source": []
  },
  {
   "cell_type": "code",
   "execution_count": 15,
   "id": "f3421087",
   "metadata": {},
   "outputs": [],
   "source": [
    "def soy_milk_consumers():\n",
    "    soy_milk_daily_weekly=soya[(soya.freq_of_soymilk_consumption=='Daily') | (soya.freq_of_soymilk_consumption=='Once in a week') ]\n",
    "    no_of_soy_milk_daily_weekly=len(soy_milk_daily_weekly)\n",
    "    consumers=(no_of_soy_milk_daily_weekly/len(soya))*100\n",
    "    print(f'{consumers}% of the respondents are regular consumers of soy milk (daily or weekly consumers)')"
   ]
  },
  {
   "cell_type": "code",
   "execution_count": 16,
   "id": "89fc8113",
   "metadata": {},
   "outputs": [
    {
     "name": "stdout",
     "output_type": "stream",
     "text": [
      "10.119047619047619% of the respondents are regular consumers of soy milk (daily or weekly consumers)\n"
     ]
    }
   ],
   "source": [
    "soy_milk_consumers()"
   ]
  },
  {
   "cell_type": "code",
   "execution_count": 17,
   "id": "ab2716c7",
   "metadata": {},
   "outputs": [
    {
     "data": {
      "text/html": [
       "<div>\n",
       "<style scoped>\n",
       "    .dataframe tbody tr th:only-of-type {\n",
       "        vertical-align: middle;\n",
       "    }\n",
       "\n",
       "    .dataframe tbody tr th {\n",
       "        vertical-align: top;\n",
       "    }\n",
       "\n",
       "    .dataframe thead th {\n",
       "        text-align: right;\n",
       "    }\n",
       "</style>\n",
       "<table border=\"1\" class=\"dataframe\">\n",
       "  <thead>\n",
       "    <tr style=\"text-align: right;\">\n",
       "      <th></th>\n",
       "      <th>lactose_intolerant</th>\n",
       "      <th>try_after_soya_awarness</th>\n",
       "      <th>tried_soya_milk</th>\n",
       "      <th>sugary_or_healthy</th>\n",
       "      <th>First Name</th>\n",
       "      <th>brand_soya_milk</th>\n",
       "      <th>looking_for_hdier_brand_soyabev</th>\n",
       "      <th>freq_of_soymilk_consumption</th>\n",
       "      <th>sugary_or_soya_or_other</th>\n",
       "      <th>age</th>\n",
       "    </tr>\n",
       "  </thead>\n",
       "  <tbody>\n",
       "    <tr>\n",
       "      <th>0</th>\n",
       "      <td>No</td>\n",
       "      <td>Maybe</td>\n",
       "      <td>No</td>\n",
       "      <td>Look for healthier options</td>\n",
       "      <td>Ramandeep</td>\n",
       "      <td>Not Applicable</td>\n",
       "      <td>Not looking for one</td>\n",
       "      <td>Not Applicable</td>\n",
       "      <td>Other healthier non soya based drinks</td>\n",
       "      <td>18</td>\n",
       "    </tr>\n",
       "    <tr>\n",
       "      <th>1</th>\n",
       "      <td>No</td>\n",
       "      <td>Not Applicable</td>\n",
       "      <td>Yes</td>\n",
       "      <td>Look for healthier options</td>\n",
       "      <td>Astitva</td>\n",
       "      <td>Silk (by Danone)</td>\n",
       "      <td>No</td>\n",
       "      <td>Only tried once</td>\n",
       "      <td>Other healthier non soya based drinks</td>\n",
       "      <td>19</td>\n",
       "    </tr>\n",
       "    <tr>\n",
       "      <th>2</th>\n",
       "      <td>No</td>\n",
       "      <td>Maybe</td>\n",
       "      <td>Yes</td>\n",
       "      <td>Look for healthier options</td>\n",
       "      <td>Rahul Chawla</td>\n",
       "      <td>Nutrela</td>\n",
       "      <td>No</td>\n",
       "      <td>Only tried once</td>\n",
       "      <td>Healthier Drink/ made with specifically soya e...</td>\n",
       "      <td>25</td>\n",
       "    </tr>\n",
       "    <tr>\n",
       "      <th>3</th>\n",
       "      <td>No</td>\n",
       "      <td>Yes</td>\n",
       "      <td>No</td>\n",
       "      <td>Fine with both</td>\n",
       "      <td>Aastha</td>\n",
       "      <td>Not Applicable</td>\n",
       "      <td>Yes</td>\n",
       "      <td>Not Applicable</td>\n",
       "      <td>Healthier Drink/ made with specifically soya e...</td>\n",
       "      <td>19</td>\n",
       "    </tr>\n",
       "    <tr>\n",
       "      <th>4</th>\n",
       "      <td>No</td>\n",
       "      <td>Yes</td>\n",
       "      <td>No</td>\n",
       "      <td>Look for healthier options</td>\n",
       "      <td>Gatik</td>\n",
       "      <td>Not Applicable</td>\n",
       "      <td>Yes</td>\n",
       "      <td>Not Applicable</td>\n",
       "      <td>Healthier Drink/ made with specifically soya e...</td>\n",
       "      <td>18</td>\n",
       "    </tr>\n",
       "    <tr>\n",
       "      <th>...</th>\n",
       "      <td>...</td>\n",
       "      <td>...</td>\n",
       "      <td>...</td>\n",
       "      <td>...</td>\n",
       "      <td>...</td>\n",
       "      <td>...</td>\n",
       "      <td>...</td>\n",
       "      <td>...</td>\n",
       "      <td>...</td>\n",
       "      <td>...</td>\n",
       "    </tr>\n",
       "    <tr>\n",
       "      <th>163</th>\n",
       "      <td>No</td>\n",
       "      <td>Maybe</td>\n",
       "      <td>No</td>\n",
       "      <td>Fine with both</td>\n",
       "      <td>Kripa</td>\n",
       "      <td>NaN</td>\n",
       "      <td>No</td>\n",
       "      <td>Only tried once</td>\n",
       "      <td>Healthier Drink/ made with specifically soya e...</td>\n",
       "      <td>21</td>\n",
       "    </tr>\n",
       "    <tr>\n",
       "      <th>164</th>\n",
       "      <td>No</td>\n",
       "      <td>NaN</td>\n",
       "      <td>No</td>\n",
       "      <td>Fine with both</td>\n",
       "      <td>Vijay</td>\n",
       "      <td>NaN</td>\n",
       "      <td>Not looking for one</td>\n",
       "      <td>Not Applicable</td>\n",
       "      <td>None</td>\n",
       "      <td>20</td>\n",
       "    </tr>\n",
       "    <tr>\n",
       "      <th>165</th>\n",
       "      <td>No</td>\n",
       "      <td>NaN</td>\n",
       "      <td>No</td>\n",
       "      <td>Look for healthier options</td>\n",
       "      <td>Abhishek</td>\n",
       "      <td>NaN</td>\n",
       "      <td>Yes</td>\n",
       "      <td>Only tried once</td>\n",
       "      <td>Other healthier non soya based drinks</td>\n",
       "      <td>20</td>\n",
       "    </tr>\n",
       "    <tr>\n",
       "      <th>166</th>\n",
       "      <td>No</td>\n",
       "      <td>NaN</td>\n",
       "      <td>Yes</td>\n",
       "      <td>Fine with both</td>\n",
       "      <td>Falguni</td>\n",
       "      <td>NaN</td>\n",
       "      <td>Yes</td>\n",
       "      <td>Not Applicable</td>\n",
       "      <td>Flavoured Milk</td>\n",
       "      <td>22</td>\n",
       "    </tr>\n",
       "    <tr>\n",
       "      <th>167</th>\n",
       "      <td>No</td>\n",
       "      <td>NaN</td>\n",
       "      <td>Yes</td>\n",
       "      <td>Fine with both</td>\n",
       "      <td>Arpita</td>\n",
       "      <td>NaN</td>\n",
       "      <td>Not looking for one</td>\n",
       "      <td>Not Applicable</td>\n",
       "      <td>Healthier Drink/ made with specifically soya e...</td>\n",
       "      <td>17</td>\n",
       "    </tr>\n",
       "  </tbody>\n",
       "</table>\n",
       "<p>168 rows × 10 columns</p>\n",
       "</div>"
      ],
      "text/plain": [
       "    lactose_intolerant try_after_soya_awarness tried_soya_milk  \\\n",
       "0                   No                   Maybe              No   \n",
       "1                   No          Not Applicable             Yes   \n",
       "2                   No                   Maybe             Yes   \n",
       "3                   No                     Yes              No   \n",
       "4                   No                     Yes              No   \n",
       "..                 ...                     ...             ...   \n",
       "163                 No                   Maybe              No   \n",
       "164                 No                     NaN              No   \n",
       "165                 No                     NaN              No   \n",
       "166                 No                     NaN             Yes   \n",
       "167                 No                     NaN             Yes   \n",
       "\n",
       "              sugary_or_healthy    First Name   brand_soya_milk  \\\n",
       "0    Look for healthier options     Ramandeep    Not Applicable   \n",
       "1    Look for healthier options       Astitva  Silk (by Danone)   \n",
       "2    Look for healthier options  Rahul Chawla           Nutrela   \n",
       "3                Fine with both        Aastha    Not Applicable   \n",
       "4    Look for healthier options         Gatik    Not Applicable   \n",
       "..                          ...           ...               ...   \n",
       "163              Fine with both         Kripa               NaN   \n",
       "164              Fine with both         Vijay               NaN   \n",
       "165  Look for healthier options      Abhishek               NaN   \n",
       "166              Fine with both       Falguni               NaN   \n",
       "167              Fine with both        Arpita               NaN   \n",
       "\n",
       "    looking_for_hdier_brand_soyabev freq_of_soymilk_consumption  \\\n",
       "0               Not looking for one              Not Applicable   \n",
       "1                                No             Only tried once   \n",
       "2                                No             Only tried once   \n",
       "3                               Yes              Not Applicable   \n",
       "4                               Yes              Not Applicable   \n",
       "..                              ...                         ...   \n",
       "163                              No             Only tried once   \n",
       "164             Not looking for one              Not Applicable   \n",
       "165                             Yes             Only tried once   \n",
       "166                             Yes              Not Applicable   \n",
       "167             Not looking for one              Not Applicable   \n",
       "\n",
       "                               sugary_or_soya_or_other  age  \n",
       "0                Other healthier non soya based drinks   18  \n",
       "1                Other healthier non soya based drinks   19  \n",
       "2    Healthier Drink/ made with specifically soya e...   25  \n",
       "3    Healthier Drink/ made with specifically soya e...   19  \n",
       "4    Healthier Drink/ made with specifically soya e...   18  \n",
       "..                                                 ...  ...  \n",
       "163  Healthier Drink/ made with specifically soya e...   21  \n",
       "164                                               None   20  \n",
       "165              Other healthier non soya based drinks   20  \n",
       "166                                     Flavoured Milk   22  \n",
       "167  Healthier Drink/ made with specifically soya e...   17  \n",
       "\n",
       "[168 rows x 10 columns]"
      ]
     },
     "execution_count": 17,
     "metadata": {},
     "output_type": "execute_result"
    }
   ],
   "source": [
    "soya"
   ]
  },
  {
   "cell_type": "markdown",
   "id": "c0760771",
   "metadata": {},
   "source": [
    "###### percentage of people interested in soy milk"
   ]
  },
  {
   "cell_type": "code",
   "execution_count": 206,
   "id": "1d6b88ff",
   "metadata": {},
   "outputs": [],
   "source": [
    "def soya_milk_bev_market_share():\n",
    "    \n",
    "    a=soya[(soya.try_after_soya_awarness=='Yes') & (soya.tried_soya_milk=='No')].index\n",
    "    a_len=len(a)\n",
    "    b=soya[(soya.try_after_soya_awarness=='Maybe') & (soya.tried_soya_milk=='No')].index\n",
    "    b_len=len(b)\n",
    "    c=soya[soya.freq_of_soymilk_consumption=='Daily'].index\n",
    "    c_len=len(c)\n",
    "    d=soya[soya.freq_of_soymilk_consumption=='Once in a week'].index\n",
    "    d_len=len(c)\n",
    "    s_customers= a_len+b_len+c_len+d_len\n",
    "    market_share_soya=s_customers/len(soya)*100\n",
    "    print(f'{market_share_soya}%')\n",
    "\n"
   ]
  },
  {
   "cell_type": "code",
   "execution_count": 207,
   "id": "239e5aa2",
   "metadata": {
    "scrolled": true
   },
   "outputs": [
    {
     "name": "stdout",
     "output_type": "stream",
     "text": [
      "55.35714285714286%\n"
     ]
    }
   ],
   "source": [
    "soya_milk_bev_market_share()"
   ]
  },
  {
   "cell_type": "code",
   "execution_count": 20,
   "id": "f8b2aaed",
   "metadata": {},
   "outputs": [
    {
     "data": {
      "text/plain": [
       "Int64Index([40, 41, 55, 62, 81, 82, 97, 110, 112, 127, 134, 147, 153], dtype='int64')"
      ]
     },
     "execution_count": 20,
     "metadata": {},
     "output_type": "execute_result"
    }
   ],
   "source": [
    "soya[soya.freq_of_soymilk_consumption=='Once in a week'].index"
   ]
  },
  {
   "cell_type": "code",
   "execution_count": 21,
   "id": "3527ef44",
   "metadata": {
    "scrolled": true
   },
   "outputs": [
    {
     "data": {
      "text/html": [
       "<div>\n",
       "<style scoped>\n",
       "    .dataframe tbody tr th:only-of-type {\n",
       "        vertical-align: middle;\n",
       "    }\n",
       "\n",
       "    .dataframe tbody tr th {\n",
       "        vertical-align: top;\n",
       "    }\n",
       "\n",
       "    .dataframe thead th {\n",
       "        text-align: right;\n",
       "    }\n",
       "</style>\n",
       "<table border=\"1\" class=\"dataframe\">\n",
       "  <thead>\n",
       "    <tr style=\"text-align: right;\">\n",
       "      <th></th>\n",
       "      <th>lactose_intolerant</th>\n",
       "      <th>try_after_soya_awarness</th>\n",
       "      <th>tried_soya_milk</th>\n",
       "      <th>sugary_or_healthy</th>\n",
       "      <th>First Name</th>\n",
       "      <th>brand_soya_milk</th>\n",
       "      <th>looking_for_hdier_brand_soyabev</th>\n",
       "      <th>freq_of_soymilk_consumption</th>\n",
       "      <th>sugary_or_soya_or_other</th>\n",
       "      <th>age</th>\n",
       "    </tr>\n",
       "  </thead>\n",
       "  <tbody>\n",
       "    <tr>\n",
       "      <th>0</th>\n",
       "      <td>No</td>\n",
       "      <td>Maybe</td>\n",
       "      <td>No</td>\n",
       "      <td>Look for healthier options</td>\n",
       "      <td>Ramandeep</td>\n",
       "      <td>Not Applicable</td>\n",
       "      <td>Not looking for one</td>\n",
       "      <td>Not Applicable</td>\n",
       "      <td>Other healthier non soya based drinks</td>\n",
       "      <td>18</td>\n",
       "    </tr>\n",
       "    <tr>\n",
       "      <th>1</th>\n",
       "      <td>No</td>\n",
       "      <td>Not Applicable</td>\n",
       "      <td>Yes</td>\n",
       "      <td>Look for healthier options</td>\n",
       "      <td>Astitva</td>\n",
       "      <td>Silk (by Danone)</td>\n",
       "      <td>No</td>\n",
       "      <td>Only tried once</td>\n",
       "      <td>Other healthier non soya based drinks</td>\n",
       "      <td>19</td>\n",
       "    </tr>\n",
       "    <tr>\n",
       "      <th>2</th>\n",
       "      <td>No</td>\n",
       "      <td>Maybe</td>\n",
       "      <td>Yes</td>\n",
       "      <td>Look for healthier options</td>\n",
       "      <td>Rahul Chawla</td>\n",
       "      <td>Nutrela</td>\n",
       "      <td>No</td>\n",
       "      <td>Only tried once</td>\n",
       "      <td>Healthier Drink/ made with specifically soya e...</td>\n",
       "      <td>25</td>\n",
       "    </tr>\n",
       "    <tr>\n",
       "      <th>3</th>\n",
       "      <td>No</td>\n",
       "      <td>Yes</td>\n",
       "      <td>No</td>\n",
       "      <td>Fine with both</td>\n",
       "      <td>Aastha</td>\n",
       "      <td>Not Applicable</td>\n",
       "      <td>Yes</td>\n",
       "      <td>Not Applicable</td>\n",
       "      <td>Healthier Drink/ made with specifically soya e...</td>\n",
       "      <td>19</td>\n",
       "    </tr>\n",
       "    <tr>\n",
       "      <th>4</th>\n",
       "      <td>No</td>\n",
       "      <td>Yes</td>\n",
       "      <td>No</td>\n",
       "      <td>Look for healthier options</td>\n",
       "      <td>Gatik</td>\n",
       "      <td>Not Applicable</td>\n",
       "      <td>Yes</td>\n",
       "      <td>Not Applicable</td>\n",
       "      <td>Healthier Drink/ made with specifically soya e...</td>\n",
       "      <td>18</td>\n",
       "    </tr>\n",
       "    <tr>\n",
       "      <th>...</th>\n",
       "      <td>...</td>\n",
       "      <td>...</td>\n",
       "      <td>...</td>\n",
       "      <td>...</td>\n",
       "      <td>...</td>\n",
       "      <td>...</td>\n",
       "      <td>...</td>\n",
       "      <td>...</td>\n",
       "      <td>...</td>\n",
       "      <td>...</td>\n",
       "    </tr>\n",
       "    <tr>\n",
       "      <th>163</th>\n",
       "      <td>No</td>\n",
       "      <td>Maybe</td>\n",
       "      <td>No</td>\n",
       "      <td>Fine with both</td>\n",
       "      <td>Kripa</td>\n",
       "      <td>NaN</td>\n",
       "      <td>No</td>\n",
       "      <td>Only tried once</td>\n",
       "      <td>Healthier Drink/ made with specifically soya e...</td>\n",
       "      <td>21</td>\n",
       "    </tr>\n",
       "    <tr>\n",
       "      <th>164</th>\n",
       "      <td>No</td>\n",
       "      <td>NaN</td>\n",
       "      <td>No</td>\n",
       "      <td>Fine with both</td>\n",
       "      <td>Vijay</td>\n",
       "      <td>NaN</td>\n",
       "      <td>Not looking for one</td>\n",
       "      <td>Not Applicable</td>\n",
       "      <td>None</td>\n",
       "      <td>20</td>\n",
       "    </tr>\n",
       "    <tr>\n",
       "      <th>165</th>\n",
       "      <td>No</td>\n",
       "      <td>NaN</td>\n",
       "      <td>No</td>\n",
       "      <td>Look for healthier options</td>\n",
       "      <td>Abhishek</td>\n",
       "      <td>NaN</td>\n",
       "      <td>Yes</td>\n",
       "      <td>Only tried once</td>\n",
       "      <td>Other healthier non soya based drinks</td>\n",
       "      <td>20</td>\n",
       "    </tr>\n",
       "    <tr>\n",
       "      <th>166</th>\n",
       "      <td>No</td>\n",
       "      <td>NaN</td>\n",
       "      <td>Yes</td>\n",
       "      <td>Fine with both</td>\n",
       "      <td>Falguni</td>\n",
       "      <td>NaN</td>\n",
       "      <td>Yes</td>\n",
       "      <td>Not Applicable</td>\n",
       "      <td>Flavoured Milk</td>\n",
       "      <td>22</td>\n",
       "    </tr>\n",
       "    <tr>\n",
       "      <th>167</th>\n",
       "      <td>No</td>\n",
       "      <td>NaN</td>\n",
       "      <td>Yes</td>\n",
       "      <td>Fine with both</td>\n",
       "      <td>Arpita</td>\n",
       "      <td>NaN</td>\n",
       "      <td>Not looking for one</td>\n",
       "      <td>Not Applicable</td>\n",
       "      <td>Healthier Drink/ made with specifically soya e...</td>\n",
       "      <td>17</td>\n",
       "    </tr>\n",
       "  </tbody>\n",
       "</table>\n",
       "<p>168 rows × 10 columns</p>\n",
       "</div>"
      ],
      "text/plain": [
       "    lactose_intolerant try_after_soya_awarness tried_soya_milk  \\\n",
       "0                   No                   Maybe              No   \n",
       "1                   No          Not Applicable             Yes   \n",
       "2                   No                   Maybe             Yes   \n",
       "3                   No                     Yes              No   \n",
       "4                   No                     Yes              No   \n",
       "..                 ...                     ...             ...   \n",
       "163                 No                   Maybe              No   \n",
       "164                 No                     NaN              No   \n",
       "165                 No                     NaN              No   \n",
       "166                 No                     NaN             Yes   \n",
       "167                 No                     NaN             Yes   \n",
       "\n",
       "              sugary_or_healthy    First Name   brand_soya_milk  \\\n",
       "0    Look for healthier options     Ramandeep    Not Applicable   \n",
       "1    Look for healthier options       Astitva  Silk (by Danone)   \n",
       "2    Look for healthier options  Rahul Chawla           Nutrela   \n",
       "3                Fine with both        Aastha    Not Applicable   \n",
       "4    Look for healthier options         Gatik    Not Applicable   \n",
       "..                          ...           ...               ...   \n",
       "163              Fine with both         Kripa               NaN   \n",
       "164              Fine with both         Vijay               NaN   \n",
       "165  Look for healthier options      Abhishek               NaN   \n",
       "166              Fine with both       Falguni               NaN   \n",
       "167              Fine with both        Arpita               NaN   \n",
       "\n",
       "    looking_for_hdier_brand_soyabev freq_of_soymilk_consumption  \\\n",
       "0               Not looking for one              Not Applicable   \n",
       "1                                No             Only tried once   \n",
       "2                                No             Only tried once   \n",
       "3                               Yes              Not Applicable   \n",
       "4                               Yes              Not Applicable   \n",
       "..                              ...                         ...   \n",
       "163                              No             Only tried once   \n",
       "164             Not looking for one              Not Applicable   \n",
       "165                             Yes             Only tried once   \n",
       "166                             Yes              Not Applicable   \n",
       "167             Not looking for one              Not Applicable   \n",
       "\n",
       "                               sugary_or_soya_or_other  age  \n",
       "0                Other healthier non soya based drinks   18  \n",
       "1                Other healthier non soya based drinks   19  \n",
       "2    Healthier Drink/ made with specifically soya e...   25  \n",
       "3    Healthier Drink/ made with specifically soya e...   19  \n",
       "4    Healthier Drink/ made with specifically soya e...   18  \n",
       "..                                                 ...  ...  \n",
       "163  Healthier Drink/ made with specifically soya e...   21  \n",
       "164                                               None   20  \n",
       "165              Other healthier non soya based drinks   20  \n",
       "166                                     Flavoured Milk   22  \n",
       "167  Healthier Drink/ made with specifically soya e...   17  \n",
       "\n",
       "[168 rows x 10 columns]"
      ]
     },
     "execution_count": 21,
     "metadata": {},
     "output_type": "execute_result"
    }
   ],
   "source": [
    "soya"
   ]
  },
  {
   "cell_type": "markdown",
   "id": "9b3c9229",
   "metadata": {},
   "source": [
    "###### PEOPLE WHO WILL TRY SOYA AFTER AWARNESS"
   ]
  },
  {
   "cell_type": "code",
   "execution_count": 22,
   "id": "3927545d",
   "metadata": {},
   "outputs": [],
   "source": [
    "def awarness_sale_prospect_soya():\n",
    "    awarness_conversion_yes=soya[(soya['tried_soya_milk'] =='No') & (soya['try_after_soya_awarness']=='Yes')].index\n",
    "    awarness_conversion_maybe=soya[(soya['tried_soya_milk'] =='No') & (soya['try_after_soya_awarness']=='Maybe')].index\n",
    "    x=soya.loc[awarness_conversion_yes]\n",
    "    y=soya.loc[awarness_conversion_maybe]\n",
    "    num_of_conversion=len(x.index) + len(y.index)\n",
    "    \n",
    "    total_not_tried=len(soya[soya.tried_soya_milk=='No'].index)\n",
    "    print(f'Total percentage of people who showed interest in consuming soya milk after reading about the same is {(num_of_conversion/total_not_tried)*100}%')"
   ]
  },
  {
   "cell_type": "code",
   "execution_count": 23,
   "id": "f9e2a710",
   "metadata": {},
   "outputs": [
    {
     "data": {
      "text/plain": [
       "Int64Index([  3,   4,   6,  11,  24,  40,  43,  46,  47,  51,  52,  53,  57,\n",
       "             64,  69,  74,  75,  76,  80,  88,  91, 106, 107, 111, 118, 119,\n",
       "            124, 126, 133, 139, 140, 144, 147, 149, 151, 152],\n",
       "           dtype='int64')"
      ]
     },
     "execution_count": 23,
     "metadata": {},
     "output_type": "execute_result"
    }
   ],
   "source": [
    "soya[(soya['tried_soya_milk'] =='No') & (soya['try_after_soya_awarness']=='Yes')].index"
   ]
  },
  {
   "cell_type": "code",
   "execution_count": 24,
   "id": "cbae3390",
   "metadata": {},
   "outputs": [
    {
     "name": "stdout",
     "output_type": "stream",
     "text": [
      "Total percentage of people who showed interest in consuming soya milk after reading about the same is 76.57657657657657%\n"
     ]
    }
   ],
   "source": [
    "awarness_sale_prospect_soya()"
   ]
  },
  {
   "cell_type": "markdown",
   "id": "35a95326",
   "metadata": {},
   "source": [
    "###### sugary or non sugary beverages?"
   ]
  },
  {
   "cell_type": "code",
   "execution_count": 25,
   "id": "e36d31d1",
   "metadata": {},
   "outputs": [],
   "source": [
    "h=soya.sugary_or_healthy.value_counts()"
   ]
  },
  {
   "cell_type": "code",
   "execution_count": 26,
   "id": "e944392b",
   "metadata": {},
   "outputs": [
    {
     "data": {
      "text/plain": [
       "Fine with both                88\n",
       "Look for healthier options    66\n",
       "Prefer sugary drinks          14\n",
       "Name: sugary_or_healthy, dtype: int64"
      ]
     },
     "execution_count": 26,
     "metadata": {},
     "output_type": "execute_result"
    }
   ],
   "source": [
    "h"
   ]
  },
  {
   "cell_type": "code",
   "execution_count": 27,
   "id": "fe049d0d",
   "metadata": {},
   "outputs": [
    {
     "data": {
      "image/png": "[encoded data removed]",
      "text/plain": [
       "<Figure size 200x200 with 1 Axes>"
      ]
     },
     "metadata": {},
     "output_type": "display_data"
    }
   ],
   "source": [
    "plt.bar(h.index,h)\n",
    "plt.xticks(rotation=75);"
   ]
  },
  {
   "cell_type": "markdown",
   "id": "e69a721a",
   "metadata": {},
   "source": [
    "###### beverages preference => sugary / soya / non soya healthy"
   ]
  },
  {
   "cell_type": "code",
   "execution_count": 28,
   "id": "dbe8e4d8",
   "metadata": {},
   "outputs": [],
   "source": [
    "s=soya.sugary_or_soya_or_other.value_counts()"
   ]
  },
  {
   "cell_type": "code",
   "execution_count": 29,
   "id": "2dce25c4",
   "metadata": {},
   "outputs": [
    {
     "data": {
      "text/plain": [
       "Healthier Drink/ made with specifically soya extracts    77\n",
       "Flavoured Milk                                           45\n",
       "Other healthier non soya based drinks                    30\n",
       "None                                                     15\n",
       "Plain milk                                                1\n",
       "Name: sugary_or_soya_or_other, dtype: int64"
      ]
     },
     "execution_count": 29,
     "metadata": {},
     "output_type": "execute_result"
    }
   ],
   "source": [
    "s"
   ]
  },
  {
   "cell_type": "code",
   "execution_count": 30,
   "id": "4b9038fe",
   "metadata": {},
   "outputs": [
    {
     "data": {
      "image/png": "[encoded data removed]",
      "text/plain": [
       "<Figure size 200x200 with 1 Axes>"
      ]
     },
     "metadata": {},
     "output_type": "display_data"
    }
   ],
   "source": [
    "plt.bar(s.index,s)\n",
    "plt.xticks(rotation=90);"
   ]
  },
  {
   "cell_type": "markdown",
   "id": "fa839b11",
   "metadata": {},
   "source": [
    "###### Are people looking for healthier plant based product brands?"
   ]
  },
  {
   "cell_type": "code",
   "execution_count": 31,
   "id": "720fbb8d",
   "metadata": {},
   "outputs": [],
   "source": [
    "e=soya.looking_for_hdier_brand_soyabev.value_counts()"
   ]
  },
  {
   "cell_type": "code",
   "execution_count": 32,
   "id": "46995892",
   "metadata": {},
   "outputs": [
    {
     "data": {
      "text/plain": [
       "Not looking for one    80\n",
       "Yes                    47\n",
       "No                     41\n",
       "Name: looking_for_hdier_brand_soyabev, dtype: int64"
      ]
     },
     "execution_count": 32,
     "metadata": {},
     "output_type": "execute_result"
    }
   ],
   "source": [
    "e"
   ]
  },
  {
   "cell_type": "code",
   "execution_count": 33,
   "id": "b905122d",
   "metadata": {},
   "outputs": [
    {
     "data": {
      "image/png": "[encoded data removed]",
      "text/plain": [
       "<Figure size 200x200 with 1 Axes>"
      ]
     },
     "metadata": {},
     "output_type": "display_data"
    }
   ],
   "source": [
    "plt.bar(e.index,e)\n",
    "plt.xticks(rotation=90);"
   ]
  },
  {
   "cell_type": "markdown",
   "id": "62ba6271",
   "metadata": {},
   "source": [
    "###### BRAND SOYA MILK"
   ]
  },
  {
   "cell_type": "code",
   "execution_count": 55,
   "id": "b1337ba8",
   "metadata": {},
   "outputs": [],
   "source": [
    "soy_competition_brands=soya.brand_soya_milk.value_counts()"
   ]
  },
  {
   "cell_type": "code",
   "execution_count": 66,
   "id": "2bcaad06",
   "metadata": {},
   "outputs": [
    {
     "data": {
      "text/plain": [
       "Not Applicable                                                102\n",
       "Sofit                                                          30\n",
       "Hershey's Soy Milk                                             13\n",
       "Nutrela                                                        11\n",
       "GoVegan                                                         2\n",
       "Organic India                                                   2\n",
       "Silk (by Danone)                                                1\n",
       "I prepare it with my own hand by crushing beans in a mixer      1\n",
       "Name: brand_soya_milk, dtype: int64"
      ]
     },
     "execution_count": 66,
     "metadata": {},
     "output_type": "execute_result"
    }
   ],
   "source": [
    "soy_competition_brands"
   ]
  },
  {
   "cell_type": "code",
   "execution_count": 72,
   "id": "325d3131",
   "metadata": {},
   "outputs": [
    {
     "data": {
      "text/plain": [
       "Sofit                 30\n",
       "Hershey's Soy Milk    13\n",
       "Nutrela               11\n",
       "GoVegan                2\n",
       "Organic India          2\n",
       "Silk (by Danone)       1\n",
       "Name: brand_soya_milk, dtype: int64"
      ]
     },
     "execution_count": 72,
     "metadata": {},
     "output_type": "execute_result"
    }
   ],
   "source": [
    "x=soy_competition_brands.drop(['Not Applicable','I prepare it with my own hand by crushing beans in a mixer'])\n",
    "x"
   ]
  },
  {
   "cell_type": "code",
   "execution_count": 76,
   "id": "73b86c05",
   "metadata": {},
   "outputs": [
    {
     "data": {
      "text/plain": [
       "Text(0, 0.5, 'No. of consumers')"
      ]
     },
     "execution_count": 76,
     "metadata": {},
     "output_type": "execute_result"
    },
    {
     "data": {
      "image/png": "[encoded data removed]",
      "text/plain": [
       "<Figure size 200x200 with 1 Axes>"
      ]
     },
     "metadata": {},
     "output_type": "display_data"
    }
   ],
   "source": [
    "x.plot(kind='bar')\n",
    "plt.ylabel('No. of consumers')"
   ]
  },
  {
   "cell_type": "markdown",
   "id": "8b6f8d83",
   "metadata": {},
   "source": [
    "###### web scraping for hello tempayy product list"
   ]
  },
  {
   "cell_type": "code",
   "execution_count": 78,
   "id": "6fee61da",
   "metadata": {},
   "outputs": [],
   "source": [
    "import requests\n",
    "from bs4 import BeautifulSoup"
   ]
  },
  {
   "cell_type": "code",
   "execution_count": 188,
   "id": "a7c1ffec",
   "metadata": {},
   "outputs": [],
   "source": [
    "importing= requests.get('https://hellotempayy.com/products/natural-tempeh-cubes?utm_source=Google-Search&utm_medium=CPC&utm_campaign=Sitelink&utm_source=google_cpc&utm_medium=blackcoffeemedia&campaign=&utm_adgroup=&utm_term=&gad=1&gclid=Cj0KCQjwoK2mBhDzARIsADGbjepRExyWfjupjmhMOxITsQoa78XR85i8wPxbY8otxkfb06IjUWdr7qUaAmYgEALw_wcB')"
   ]
  },
  {
   "cell_type": "code",
   "execution_count": 189,
   "id": "e249fccc",
   "metadata": {},
   "outputs": [
    {
     "data": {
      "text/plain": [
       "200"
      ]
     },
     "execution_count": 189,
     "metadata": {},
     "output_type": "execute_result"
    }
   ],
   "source": [
    "importing.status_code"
   ]
  },
  {
   "cell_type": "code",
   "execution_count": 190,
   "id": "9caed0f2",
   "metadata": {},
   "outputs": [],
   "source": [
    "importing_text=importing.text"
   ]
  },
  {
   "cell_type": "code",
   "execution_count": 191,
   "id": "11bd47b5",
   "metadata": {},
   "outputs": [],
   "source": [
    "soup=BeautifulSoup(importing_text,'html.parser')"
   ]
  },
  {
   "cell_type": "code",
   "execution_count": 194,
   "id": "0f608123",
   "metadata": {
    "scrolled": true
   },
   "outputs": [],
   "source": [
    "x=soup.find_all('span',class_=\"tooltop_swatch\")"
   ]
  },
  {
   "cell_type": "code",
   "execution_count": 199,
   "id": "f0dc4e1f",
   "metadata": {},
   "outputs": [
    {
     "name": "stdout",
     "output_type": "stream",
     "text": [
      "Peppery Szechuan Chilli Tempeh Cubes \n",
      "Spicy Peri Peri Tempeh Cubes \n",
      "Roasted Chettinad Tempeh Cubes \n",
      "Spiced Tawa Masala Tempeh Cubes \n",
      "Simply Sriracha Tempeh Cubes \n",
      "All Things Tempeh Combo | Pack of 6 \n",
      "Flavour Blast-Tempeh Combo | Pack of 5 \n",
      "Around the World-Tempeh Combo | Pack of 3 \n",
      "Spice Fix-Tempeh Combo | Pack of 3 \n",
      "Do your thing-Tempeh Combo | Pack of 3 \n"
     ]
    }
   ],
   "source": [
    "for i in range (0,len(x)):\n",
    "    print(x[i].text)"
   ]
  },
  {
   "cell_type": "markdown",
   "id": "513fe5ab",
   "metadata": {},
   "source": [
    "# TEMPEH"
   ]
  },
  {
   "cell_type": "code",
   "execution_count": null,
   "id": "677a5400",
   "metadata": {},
   "outputs": [],
   "source": [
    "tempeh_c={'age','First Name','exercise','what_is_tempeh','tried_tempeh','try_after_tempe_awarness','freq_of_tempeh_consumption','brand_tempeh','form1_tempeh','form2_tempeh','form3_tempeh'}"
   ]
  },
  {
   "cell_type": "code",
   "execution_count": 174,
   "id": "6678a0c5",
   "metadata": {},
   "outputs": [
    {
     "name": "stderr",
     "output_type": "stream",
     "text": [
      "C:\\Users\\raman\\AppData\\Local\\Temp\\ipykernel_19816\\3851179763.py:1: FutureWarning: Passing a set as an indexer is deprecated and will raise in a future version. Use a list instead.\n",
      "  tempeh=survey[tempeh_c]\n"
     ]
    }
   ],
   "source": [
    "tempeh=survey[tempeh_c]"
   ]
  },
  {
   "cell_type": "markdown",
   "id": "1db66a84",
   "metadata": {},
   "source": [
    "###### current number of people consuming tempeh"
   ]
  },
  {
   "cell_type": "code",
   "execution_count": 175,
   "id": "5ef6e075",
   "metadata": {},
   "outputs": [
    {
     "data": {
      "text/plain": [
       "array(['Not Applicable', 'Once/more than once in a month',\n",
       "       'Once/more than once in a week',\n",
       "       \"Tried only once and don't consume it regularly\", 'Daily', nan],\n",
       "      dtype=object)"
      ]
     },
     "execution_count": 175,
     "metadata": {},
     "output_type": "execute_result"
    }
   ],
   "source": [
    "tempeh.freq_of_tempeh_consumption.unique()"
   ]
  },
  {
   "cell_type": "code",
   "execution_count": 176,
   "id": "fa5c95c4",
   "metadata": {},
   "outputs": [],
   "source": [
    "def tempeh_milk_consumers():\n",
    "    tempeh_milk_daily_weekly=tempeh[(tempeh.freq_of_tempeh_consumption=='Daily') | (tempeh.freq_of_tempeh_consumption=='Once/more than once in a week') ]\n",
    "    no_of_tempeh_milk_daily_weekly=len(tempeh_milk_daily_weekly)\n",
    "    consumers=(no_of_tempeh_milk_daily_weekly/len(tempeh))*100\n",
    "    print(f'{consumers}% of the respondents are regular consumers of tempeh  (daily or weekly consumers)')"
   ]
  },
  {
   "cell_type": "code",
   "execution_count": 177,
   "id": "382eb7a5",
   "metadata": {},
   "outputs": [
    {
     "name": "stdout",
     "output_type": "stream",
     "text": [
      "4.761904761904762% of the respondents are regular consumers of tempeh  (daily or weekly consumers)\n"
     ]
    }
   ],
   "source": [
    "tempeh_milk_consumers()"
   ]
  },
  {
   "cell_type": "code",
   "execution_count": 178,
   "id": "2b6d74c0",
   "metadata": {
    "scrolled": true
   },
   "outputs": [
    {
     "data": {
      "text/html": [
       "<div>\n",
       "<style scoped>\n",
       "    .dataframe tbody tr th:only-of-type {\n",
       "        vertical-align: middle;\n",
       "    }\n",
       "\n",
       "    .dataframe tbody tr th {\n",
       "        vertical-align: top;\n",
       "    }\n",
       "\n",
       "    .dataframe thead th {\n",
       "        text-align: right;\n",
       "    }\n",
       "</style>\n",
       "<table border=\"1\" class=\"dataframe\">\n",
       "  <thead>\n",
       "    <tr style=\"text-align: right;\">\n",
       "      <th></th>\n",
       "      <th>form1_tempeh</th>\n",
       "      <th>form3_tempeh</th>\n",
       "      <th>freq_of_tempeh_consumption</th>\n",
       "      <th>brand_tempeh</th>\n",
       "      <th>First Name</th>\n",
       "      <th>try_after_tempe_awarness</th>\n",
       "      <th>tried_tempeh</th>\n",
       "      <th>form2_tempeh</th>\n",
       "      <th>what_is_tempeh</th>\n",
       "      <th>age</th>\n",
       "      <th>exercise</th>\n",
       "    </tr>\n",
       "  </thead>\n",
       "  <tbody>\n",
       "    <tr>\n",
       "      <th>0</th>\n",
       "      <td>Original/Raw form of Tempeh</td>\n",
       "      <td>None</td>\n",
       "      <td>Not Applicable</td>\n",
       "      <td>Not Applicable</td>\n",
       "      <td>Ramandeep</td>\n",
       "      <td>Maybe</td>\n",
       "      <td>No</td>\n",
       "      <td>None</td>\n",
       "      <td>No</td>\n",
       "      <td>18</td>\n",
       "      <td>Daily</td>\n",
       "    </tr>\n",
       "    <tr>\n",
       "      <th>1</th>\n",
       "      <td>Original/Raw form of Tempeh</td>\n",
       "      <td>Original/Raw form of Tempeh</td>\n",
       "      <td>Once/more than once in a month</td>\n",
       "      <td>Hello Tempayy</td>\n",
       "      <td>Astitva</td>\n",
       "      <td>Not Applicable</td>\n",
       "      <td>Yes</td>\n",
       "      <td>Original/Raw form of Tempeh</td>\n",
       "      <td>Yes</td>\n",
       "      <td>19</td>\n",
       "      <td>Daily</td>\n",
       "    </tr>\n",
       "    <tr>\n",
       "      <th>2</th>\n",
       "      <td>Tempeh Cookies</td>\n",
       "      <td>Original/Raw form of Tempeh</td>\n",
       "      <td>Not Applicable</td>\n",
       "      <td>Not Applicable</td>\n",
       "      <td>Rahul Chawla</td>\n",
       "      <td>Not Applicable</td>\n",
       "      <td>No</td>\n",
       "      <td>Tempeh Chips</td>\n",
       "      <td>No</td>\n",
       "      <td>25</td>\n",
       "      <td>Once in a month</td>\n",
       "    </tr>\n",
       "    <tr>\n",
       "      <th>3</th>\n",
       "      <td>Tempeh Cookies</td>\n",
       "      <td>None</td>\n",
       "      <td>Not Applicable</td>\n",
       "      <td>Not Applicable</td>\n",
       "      <td>Aastha</td>\n",
       "      <td>Yes</td>\n",
       "      <td>No</td>\n",
       "      <td>Tempeh Chips</td>\n",
       "      <td>Yes</td>\n",
       "      <td>19</td>\n",
       "      <td>Daily</td>\n",
       "    </tr>\n",
       "    <tr>\n",
       "      <th>4</th>\n",
       "      <td>Original/Raw form of Tempeh</td>\n",
       "      <td>None</td>\n",
       "      <td>Not Applicable</td>\n",
       "      <td>Not Applicable</td>\n",
       "      <td>Gatik</td>\n",
       "      <td>Yes</td>\n",
       "      <td>No</td>\n",
       "      <td>Tempeh Chips</td>\n",
       "      <td>Yes</td>\n",
       "      <td>18</td>\n",
       "      <td>2 times a week</td>\n",
       "    </tr>\n",
       "    <tr>\n",
       "      <th>...</th>\n",
       "      <td>...</td>\n",
       "      <td>...</td>\n",
       "      <td>...</td>\n",
       "      <td>...</td>\n",
       "      <td>...</td>\n",
       "      <td>...</td>\n",
       "      <td>...</td>\n",
       "      <td>...</td>\n",
       "      <td>...</td>\n",
       "      <td>...</td>\n",
       "      <td>...</td>\n",
       "    </tr>\n",
       "    <tr>\n",
       "      <th>163</th>\n",
       "      <td>Tempeh Chips</td>\n",
       "      <td>Original/Raw form of Tempeh</td>\n",
       "      <td>NaN</td>\n",
       "      <td>NaN</td>\n",
       "      <td>Kripa</td>\n",
       "      <td>Yes</td>\n",
       "      <td>No</td>\n",
       "      <td>Tempeh Cookies</td>\n",
       "      <td>Yes</td>\n",
       "      <td>21</td>\n",
       "      <td>Limited/Rare</td>\n",
       "    </tr>\n",
       "    <tr>\n",
       "      <th>164</th>\n",
       "      <td>None</td>\n",
       "      <td>None</td>\n",
       "      <td>NaN</td>\n",
       "      <td>NaN</td>\n",
       "      <td>Vijay</td>\n",
       "      <td>Yes</td>\n",
       "      <td>No</td>\n",
       "      <td>Tempeh Cookies</td>\n",
       "      <td>No</td>\n",
       "      <td>20</td>\n",
       "      <td>Once in a month</td>\n",
       "    </tr>\n",
       "    <tr>\n",
       "      <th>165</th>\n",
       "      <td>NaN</td>\n",
       "      <td>NaN</td>\n",
       "      <td>NaN</td>\n",
       "      <td>NaN</td>\n",
       "      <td>Abhishek</td>\n",
       "      <td>Maybe</td>\n",
       "      <td>No</td>\n",
       "      <td>None</td>\n",
       "      <td>No</td>\n",
       "      <td>20</td>\n",
       "      <td>3-4 times a week</td>\n",
       "    </tr>\n",
       "    <tr>\n",
       "      <th>166</th>\n",
       "      <td>NaN</td>\n",
       "      <td>NaN</td>\n",
       "      <td>NaN</td>\n",
       "      <td>NaN</td>\n",
       "      <td>Falguni</td>\n",
       "      <td>Maybe</td>\n",
       "      <td>No</td>\n",
       "      <td>NaN</td>\n",
       "      <td>NaN</td>\n",
       "      <td>22</td>\n",
       "      <td>Limited/Rare</td>\n",
       "    </tr>\n",
       "    <tr>\n",
       "      <th>167</th>\n",
       "      <td>NaN</td>\n",
       "      <td>NaN</td>\n",
       "      <td>NaN</td>\n",
       "      <td>NaN</td>\n",
       "      <td>Arpita</td>\n",
       "      <td>Maybe</td>\n",
       "      <td>No</td>\n",
       "      <td>NaN</td>\n",
       "      <td>NaN</td>\n",
       "      <td>17</td>\n",
       "      <td>Daily</td>\n",
       "    </tr>\n",
       "  </tbody>\n",
       "</table>\n",
       "<p>168 rows × 11 columns</p>\n",
       "</div>"
      ],
      "text/plain": [
       "                    form1_tempeh                 form3_tempeh  \\\n",
       "0    Original/Raw form of Tempeh                         None   \n",
       "1    Original/Raw form of Tempeh  Original/Raw form of Tempeh   \n",
       "2                 Tempeh Cookies  Original/Raw form of Tempeh   \n",
       "3                 Tempeh Cookies                         None   \n",
       "4    Original/Raw form of Tempeh                         None   \n",
       "..                           ...                          ...   \n",
       "163                 Tempeh Chips  Original/Raw form of Tempeh   \n",
       "164                         None                         None   \n",
       "165                          NaN                          NaN   \n",
       "166                          NaN                          NaN   \n",
       "167                          NaN                          NaN   \n",
       "\n",
       "         freq_of_tempeh_consumption    brand_tempeh    First Name  \\\n",
       "0                    Not Applicable  Not Applicable     Ramandeep   \n",
       "1    Once/more than once in a month   Hello Tempayy       Astitva   \n",
       "2                    Not Applicable  Not Applicable  Rahul Chawla   \n",
       "3                    Not Applicable  Not Applicable        Aastha   \n",
       "4                    Not Applicable  Not Applicable         Gatik   \n",
       "..                              ...             ...           ...   \n",
       "163                             NaN             NaN         Kripa   \n",
       "164                             NaN             NaN         Vijay   \n",
       "165                             NaN             NaN      Abhishek   \n",
       "166                             NaN             NaN       Falguni   \n",
       "167                             NaN             NaN        Arpita   \n",
       "\n",
       "    try_after_tempe_awarness tried_tempeh                 form2_tempeh  \\\n",
       "0                      Maybe           No                         None   \n",
       "1             Not Applicable          Yes  Original/Raw form of Tempeh   \n",
       "2             Not Applicable           No                 Tempeh Chips   \n",
       "3                        Yes           No                 Tempeh Chips   \n",
       "4                        Yes           No                 Tempeh Chips   \n",
       "..                       ...          ...                          ...   \n",
       "163                      Yes           No               Tempeh Cookies   \n",
       "164                      Yes           No               Tempeh Cookies   \n",
       "165                    Maybe           No                         None   \n",
       "166                    Maybe           No                          NaN   \n",
       "167                    Maybe           No                          NaN   \n",
       "\n",
       "    what_is_tempeh  age          exercise  \n",
       "0               No   18             Daily  \n",
       "1              Yes   19             Daily  \n",
       "2               No   25   Once in a month  \n",
       "3              Yes   19             Daily  \n",
       "4              Yes   18    2 times a week  \n",
       "..             ...  ...               ...  \n",
       "163            Yes   21      Limited/Rare  \n",
       "164             No   20   Once in a month  \n",
       "165             No   20  3-4 times a week  \n",
       "166            NaN   22      Limited/Rare  \n",
       "167            NaN   17             Daily  \n",
       "\n",
       "[168 rows x 11 columns]"
      ]
     },
     "execution_count": 178,
     "metadata": {},
     "output_type": "execute_result"
    }
   ],
   "source": [
    "tempeh"
   ]
  },
  {
   "cell_type": "markdown",
   "id": "fb2bc378",
   "metadata": {},
   "source": [
    "###### PEOPLE WHO WILL TRY TEMPEH AFTER AWARNESS"
   ]
  },
  {
   "cell_type": "code",
   "execution_count": 179,
   "id": "e47f548c",
   "metadata": {},
   "outputs": [],
   "source": [
    "def awarness_sale_prospect_tempeh():\n",
    "    awarness_convesion_yes=tempeh[(tempeh['tried_tempeh'] =='No') & (tempeh['try_after_tempe_awarness']=='Yes')].index\n",
    "    awarness_convesion_maybe=tempeh[(tempeh['tried_tempeh'] =='No') & (tempeh['try_after_tempe_awarness']=='Maybe')].index\n",
    "    x=tempeh.loc[awarness_convesion_yes]\n",
    "    y=tempeh.loc[awarness_convesion_maybe]\n",
    "    \n",
    "    num_of_conversion=len(x.index) + len(y.index)\n",
    "    \n",
    "    total_not_tried=len(tempeh[tempeh.tried_tempeh=='No'].index)\n",
    "    print(f'Total percentage of people who showed interest in consuming tempeh after reading about tempeh is {(num_of_conversion/total_not_tried)*100}%'  )"
   ]
  },
  {
   "cell_type": "code",
   "execution_count": 180,
   "id": "5cbde2ab",
   "metadata": {
    "scrolled": true
   },
   "outputs": [
    {
     "name": "stdout",
     "output_type": "stream",
     "text": [
      "Total percentage of people who showed interest in consuming tempeh after reading about tempeh is 84.56375838926175%\n"
     ]
    }
   ],
   "source": [
    "awarness_sale_prospect_tempeh()"
   ]
  },
  {
   "cell_type": "markdown",
   "id": "73d58d66",
   "metadata": {},
   "source": [
    "###### TEMPEH PRODUCT PREFERRED BY PEOPLE "
   ]
  },
  {
   "cell_type": "code",
   "execution_count": 181,
   "id": "44f62886",
   "metadata": {},
   "outputs": [],
   "source": [
    "def form_of_tempeh_preferred():\n",
    "    a=tempeh.form1_tempeh\n",
    "    b=tempeh.form2_tempeh\n",
    "    c=tempeh.form3_tempeh\n",
    "    d=pd.concat([a,b,c],axis=0)\n",
    "    e=(d.value_counts()).drop('None')\n",
    "    e.plot(kind='bar')\n",
    "    print(e)"
   ]
  },
  {
   "cell_type": "code",
   "execution_count": 182,
   "id": "aa99bd53",
   "metadata": {},
   "outputs": [
    {
     "name": "stdout",
     "output_type": "stream",
     "text": [
      "Tempeh Chips                   114\n",
      "Tempeh Cookies                 106\n",
      "Original/Raw form of Tempeh     93\n",
      "dtype: int64\n"
     ]
    },
    {
     "data": {
      "image/png": "[encoded data removed]",
      "text/plain": [
       "<Figure size 200x200 with 1 Axes>"
      ]
     },
     "metadata": {},
     "output_type": "display_data"
    }
   ],
   "source": [
    "form_of_tempeh_preferred()"
   ]
  },
  {
   "cell_type": "markdown",
   "id": "fad56886",
   "metadata": {},
   "source": [
    "######  people interested in tempeh and its different products"
   ]
  },
  {
   "cell_type": "code",
   "execution_count": 208,
   "id": "abd93f70",
   "metadata": {},
   "outputs": [],
   "source": [
    "def tempeh_market_share():\n",
    "    w=tempeh[(tempeh.try_after_tempe_awarness=='Yes')& (tempeh.tried_tempeh=='No')].index\n",
    "    w_len=len(w)\n",
    "    x=tempeh[(tempeh.try_after_tempe_awarness=='Maybe')& (tempeh.tried_tempeh=='No')].index\n",
    "    x_len=len(x)\n",
    "    y=tempeh[tempeh.freq_of_tempeh_consumption=='Daily'].index\n",
    "    y_len=len(y)\n",
    "    z=tempeh[tempeh.freq_of_tempeh_consumption=='Once/more than once in a week'].index\n",
    "    z_len=len(z)\n",
    "    customers= w_len+x_len+y_len+z_len\n",
    "    len(tempeh)\n",
    "    market_share_tempeh=customers/len(tempeh)*100\n",
    "    print(f'{market_share_tempeh}%')"
   ]
  },
  {
   "cell_type": "code",
   "execution_count": 209,
   "id": "21463df0",
   "metadata": {},
   "outputs": [
    {
     "name": "stdout",
     "output_type": "stream",
     "text": [
      "79.76190476190477%\n"
     ]
    }
   ],
   "source": [
    "tempeh_market_share()"
   ]
  },
  {
   "cell_type": "code",
   "execution_count": 185,
   "id": "6b3fdd1b",
   "metadata": {},
   "outputs": [
    {
     "data": {
      "text/plain": [
       "78"
      ]
     },
     "execution_count": 185,
     "metadata": {},
     "output_type": "execute_result"
    }
   ],
   "source": [
    "y=tempeh[tempeh.try_after_tempe_awarness=='Yes'].index\n",
    "len(y)"
   ]
  },
  {
   "cell_type": "markdown",
   "id": "ffe37a4e",
   "metadata": {},
   "source": [
    "###### competition brand tempeh\n"
   ]
  },
  {
   "cell_type": "code",
   "execution_count": 187,
   "id": "edb40fbd",
   "metadata": {},
   "outputs": [
    {
     "data": {
      "text/plain": [
       "Hello Tempayy         8\n",
       "SoGood Vegan          4\n",
       "Happy Health India    3\n",
       "Temph Chennai         2\n",
       "Tempeh Today          2\n",
       "healthonplants        1\n",
       "No                    1\n",
       "Tempeh Tales          1\n",
       "Name: brand_tempeh, dtype: int64"
      ]
     },
     "execution_count": 187,
     "metadata": {},
     "output_type": "execute_result"
    }
   ],
   "source": [
    "tempeh.brand_tempeh.value_counts().drop('Not Applicable')"
   ]
  },
  {
   "cell_type": "code",
   "execution_count": null,
   "id": "6d11d677",
   "metadata": {},
   "outputs": [],
   "source": []
  },
  {
   "cell_type": "code",
   "execution_count": null,
   "id": "5cd65952",
   "metadata": {},
   "outputs": [],
   "source": []
  }
 ],
 "metadata": {
  "kernelspec": {
   "display_name": "Python 3 (ipykernel)",
   "language": "python",
   "name": "python3"
  },
  "language_info": {
   "codemirror_mode": {
    "name": "ipython",
    "version": 3
   },
   "file_extension": ".py",
   "mimetype": "text/x-python",
   "name": "python",
   "nbconvert_exporter": "python",
   "pygments_lexer": "ipython3",
   "version": "3.10.7"
  }
 },
 "nbformat": 4,
 "nbformat_minor": 5
}
